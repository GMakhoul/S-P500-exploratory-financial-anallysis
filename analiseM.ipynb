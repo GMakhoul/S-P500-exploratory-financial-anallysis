{
 "cells": [
  {
   "cell_type": "code",
   "execution_count": 13,
   "metadata": {},
   "outputs": [],
   "source": [
    "import numpy as np\n",
    "import seaborn as sns\n",
    "import pandas as pd\n",
    "import matplotlib.pyplot as plt"
   ]
  },
  {
   "cell_type": "markdown",
   "metadata": {},
   "source": [
    "![S&P's 500](https://www.thestreet.com/.image/ar_16:9%2Cc_fill%2Ccs_srgb%2Cq_auto:good%2Cw_1200/MTg4MjU0NjUxODAyNzIzMzc2/sp-500-1.png)\n",
    "\n",
    "<font size=\"3\">``\n",
    "- **O que é**: Índice de mercado que mede o desempenho de 500 grandes empresas dos EUA.\n",
    "- **Composição**: Inclui empresas listadas nas bolsas NYSE e NASDAQ.\n",
    "- **Origem**: Criado pela Standard & Poor's.\n",
    "- **Critérios de seleção**: Capitalização de mercado, liquidez e representatividade no mercado.\n",
    "- **Setores**: Empresas de vários setores, como tecnologia, saúde, finanças e energia.\n",
    "- **Importância**: Principal indicador da saúde do mercado de ações americano.\n",
    "- **Uso**: Referência para investidores, analistas e gestores de fundos.``<font size>"
   ]
  },
  {
   "cell_type": "code",
   "execution_count": 30,
   "metadata": {},
   "outputs": [],
   "source": [
    "df = pd.read_csv(r'C:\\Users\\Matheus\\Desktop\\Ada - Pandas\\S-P500-exploratory-financial-anallysis\\sp500_companies.csv', delimiter=',')\n",
    "df1 = pd.read_csv(r'C:\\Users\\Matheus\\Desktop\\Pandas - Final\\S-P500-exploratory-financial-anallysis\\sp500_index.csv')\n",
    "df2 = pd.read_csv(r'C:\\Users\\Matheus\\Desktop\\Pandas - Final\\S-P500-exploratory-financial-anallysis\\sp500_stocks.csv')"
   ]
  },
  {
   "cell_type": "code",
   "execution_count": 19,
   "metadata": {},
   "outputs": [
    {
     "data": {
      "text/plain": [
       "Index(['Exchange', 'Symbol', 'Shortname', 'Longname', 'Sector', 'Industry',\n",
       "       'Currentprice', 'Marketcap', 'Ebitda', 'Revenuegrowth', 'City', 'State',\n",
       "       'Country', 'Fulltimeemployees', 'Longbusinesssummary', 'Weight'],\n",
       "      dtype='object')"
      ]
     },
     "execution_count": 19,
     "metadata": {},
     "output_type": "execute_result"
    }
   ],
   "source": [
    "# Verificando as colunas\n",
    "df.columns"
   ]
  },
  {
   "cell_type": "markdown",
   "metadata": {},
   "source": [
    "| Coluna | Features | Descrição |\n",
    "|:---|:---|:---|\n",
    "| 0 | Exchange | Bolsa onde as ações são negociadas |\n",
    "| 1 | Symbol | Simbolo das ações |\n",
    "| 2 | Shortname | Nome Abreviado da Empresa |\n",
    "| 3 | Longname | Nome completo da empresa |\n",
    "| 4 | Sector |Setor onde a empresa atua|\n",
    "| 5 | Industry | Ramo de atuação |\n",
    "| 6 | Currentprice | Preço atual das ações |\n",
    "| 7 | Marketcap | Capitalização de mercado (Valor de mercado = Preço da Ação x Número total de ações) |\n",
    "| 8 | Ebitda | Métrica financeira que representa o lucro de uma empresa antes de descontar os juros, impostos, depreciação e amortização $EBITDA\\: = \\:Lucro Operacional + Depreciação +  Amortização$ |\n",
    "| 9 | Revenuegrowth | aumento percentual da receita $\\dfrac {Receita\\:no\\:Período\\:Atual - Receita\\:no \\:Período\\:Anterior}{Receita\\:no\\:Período\\:Anterior}$ |\n",
    "| 10 | City | Cidade Matriz |\n",
    "| 11 | State | Estado da Matriz |\n",
    "| 12 | Country | País da Matriz |\n",
    "| 13 | Fulltimeemployees | Número de Funcionários em tempo integral |\n",
    "| 14 | Longbusinesssummary | Resumo da Empresa |\n",
    "| 15 | Weight | Proporção do valor de mercado de uma empresa em relação ao valor de mercado total do índice S&P 500 |\n"
   ]
  },
  {
   "cell_type": "code",
   "execution_count": 20,
   "metadata": {},
   "outputs": [
    {
     "data": {
      "text/html": [
       "<div>\n",
       "<style scoped>\n",
       "    .dataframe tbody tr th:only-of-type {\n",
       "        vertical-align: middle;\n",
       "    }\n",
       "\n",
       "    .dataframe tbody tr th {\n",
       "        vertical-align: top;\n",
       "    }\n",
       "\n",
       "    .dataframe thead th {\n",
       "        text-align: right;\n",
       "    }\n",
       "</style>\n",
       "<table border=\"1\" class=\"dataframe\">\n",
       "  <thead>\n",
       "    <tr style=\"text-align: right;\">\n",
       "      <th></th>\n",
       "      <th>Exchange</th>\n",
       "      <th>Symbol</th>\n",
       "      <th>Shortname</th>\n",
       "      <th>Longname</th>\n",
       "      <th>Sector</th>\n",
       "      <th>Industry</th>\n",
       "      <th>Currentprice</th>\n",
       "      <th>Marketcap</th>\n",
       "      <th>Ebitda</th>\n",
       "      <th>Revenuegrowth</th>\n",
       "      <th>City</th>\n",
       "      <th>State</th>\n",
       "      <th>Country</th>\n",
       "      <th>Fulltimeemployees</th>\n",
       "      <th>Longbusinesssummary</th>\n",
       "      <th>Weight</th>\n",
       "    </tr>\n",
       "  </thead>\n",
       "  <tbody>\n",
       "    <tr>\n",
       "      <th>0</th>\n",
       "      <td>NMS</td>\n",
       "      <td>AAPL</td>\n",
       "      <td>Apple Inc.</td>\n",
       "      <td>Apple Inc.</td>\n",
       "      <td>Technology</td>\n",
       "      <td>Consumer Electronics</td>\n",
       "      <td>229.00</td>\n",
       "      <td>3481738936320</td>\n",
       "      <td>1.317810e+11</td>\n",
       "      <td>0.049</td>\n",
       "      <td>Cupertino</td>\n",
       "      <td>CA</td>\n",
       "      <td>United States</td>\n",
       "      <td>161000.0</td>\n",
       "      <td>Apple Inc. designs, manufactures, and markets ...</td>\n",
       "      <td>0.066419</td>\n",
       "    </tr>\n",
       "    <tr>\n",
       "      <th>1</th>\n",
       "      <td>NMS</td>\n",
       "      <td>MSFT</td>\n",
       "      <td>Microsoft Corporation</td>\n",
       "      <td>Microsoft Corporation</td>\n",
       "      <td>Technology</td>\n",
       "      <td>Software - Infrastructure</td>\n",
       "      <td>417.14</td>\n",
       "      <td>3100618260480</td>\n",
       "      <td>1.294330e+11</td>\n",
       "      <td>0.152</td>\n",
       "      <td>Redmond</td>\n",
       "      <td>WA</td>\n",
       "      <td>United States</td>\n",
       "      <td>228000.0</td>\n",
       "      <td>Microsoft Corporation develops and supports so...</td>\n",
       "      <td>0.059148</td>\n",
       "    </tr>\n",
       "    <tr>\n",
       "      <th>2</th>\n",
       "      <td>NMS</td>\n",
       "      <td>NVDA</td>\n",
       "      <td>NVIDIA Corporation</td>\n",
       "      <td>NVIDIA Corporation</td>\n",
       "      <td>Technology</td>\n",
       "      <td>Semiconductors</td>\n",
       "      <td>119.37</td>\n",
       "      <td>2928146120704</td>\n",
       "      <td>6.118400e+10</td>\n",
       "      <td>1.224</td>\n",
       "      <td>Santa Clara</td>\n",
       "      <td>CA</td>\n",
       "      <td>United States</td>\n",
       "      <td>29600.0</td>\n",
       "      <td>NVIDIA Corporation provides graphics and compu...</td>\n",
       "      <td>0.055858</td>\n",
       "    </tr>\n",
       "    <tr>\n",
       "      <th>3</th>\n",
       "      <td>NMS</td>\n",
       "      <td>GOOGL</td>\n",
       "      <td>Alphabet Inc.</td>\n",
       "      <td>Alphabet Inc.</td>\n",
       "      <td>Communication Services</td>\n",
       "      <td>Internet Content &amp; Information</td>\n",
       "      <td>163.38</td>\n",
       "      <td>2021272190976</td>\n",
       "      <td>1.154780e+11</td>\n",
       "      <td>0.136</td>\n",
       "      <td>Mountain View</td>\n",
       "      <td>CA</td>\n",
       "      <td>United States</td>\n",
       "      <td>179582.0</td>\n",
       "      <td>Alphabet Inc. offers various products and plat...</td>\n",
       "      <td>0.038558</td>\n",
       "    </tr>\n",
       "    <tr>\n",
       "      <th>4</th>\n",
       "      <td>NMS</td>\n",
       "      <td>GOOG</td>\n",
       "      <td>Alphabet Inc.</td>\n",
       "      <td>Alphabet Inc.</td>\n",
       "      <td>Communication Services</td>\n",
       "      <td>Internet Content &amp; Information</td>\n",
       "      <td>165.11</td>\n",
       "      <td>2020401479680</td>\n",
       "      <td>1.154780e+11</td>\n",
       "      <td>0.136</td>\n",
       "      <td>Mountain View</td>\n",
       "      <td>CA</td>\n",
       "      <td>United States</td>\n",
       "      <td>179582.0</td>\n",
       "      <td>Alphabet Inc. offers various products and plat...</td>\n",
       "      <td>0.038542</td>\n",
       "    </tr>\n",
       "  </tbody>\n",
       "</table>\n",
       "</div>"
      ],
      "text/plain": [
       "  Exchange Symbol              Shortname               Longname  \\\n",
       "0      NMS   AAPL             Apple Inc.             Apple Inc.   \n",
       "1      NMS   MSFT  Microsoft Corporation  Microsoft Corporation   \n",
       "2      NMS   NVDA     NVIDIA Corporation     NVIDIA Corporation   \n",
       "3      NMS  GOOGL          Alphabet Inc.          Alphabet Inc.   \n",
       "4      NMS   GOOG          Alphabet Inc.          Alphabet Inc.   \n",
       "\n",
       "                   Sector                        Industry  Currentprice  \\\n",
       "0              Technology            Consumer Electronics        229.00   \n",
       "1              Technology       Software - Infrastructure        417.14   \n",
       "2              Technology                  Semiconductors        119.37   \n",
       "3  Communication Services  Internet Content & Information        163.38   \n",
       "4  Communication Services  Internet Content & Information        165.11   \n",
       "\n",
       "       Marketcap        Ebitda  Revenuegrowth           City State  \\\n",
       "0  3481738936320  1.317810e+11          0.049      Cupertino    CA   \n",
       "1  3100618260480  1.294330e+11          0.152        Redmond    WA   \n",
       "2  2928146120704  6.118400e+10          1.224    Santa Clara    CA   \n",
       "3  2021272190976  1.154780e+11          0.136  Mountain View    CA   \n",
       "4  2020401479680  1.154780e+11          0.136  Mountain View    CA   \n",
       "\n",
       "         Country  Fulltimeemployees  \\\n",
       "0  United States           161000.0   \n",
       "1  United States           228000.0   \n",
       "2  United States            29600.0   \n",
       "3  United States           179582.0   \n",
       "4  United States           179582.0   \n",
       "\n",
       "                                 Longbusinesssummary    Weight  \n",
       "0  Apple Inc. designs, manufactures, and markets ...  0.066419  \n",
       "1  Microsoft Corporation develops and supports so...  0.059148  \n",
       "2  NVIDIA Corporation provides graphics and compu...  0.055858  \n",
       "3  Alphabet Inc. offers various products and plat...  0.038558  \n",
       "4  Alphabet Inc. offers various products and plat...  0.038542  "
      ]
     },
     "execution_count": 20,
     "metadata": {},
     "output_type": "execute_result"
    }
   ],
   "source": [
    "df.head()"
   ]
  },
  {
   "cell_type": "code",
   "execution_count": 21,
   "metadata": {},
   "outputs": [
    {
     "data": {
      "text/plain": [
       "(503, 16)"
      ]
     },
     "execution_count": 21,
     "metadata": {},
     "output_type": "execute_result"
    }
   ],
   "source": [
    "df.shape"
   ]
  },
  {
   "cell_type": "code",
   "execution_count": 22,
   "metadata": {},
   "outputs": [
    {
     "name": "stdout",
     "output_type": "stream",
     "text": [
      "<class 'pandas.core.frame.DataFrame'>\n",
      "RangeIndex: 503 entries, 0 to 502\n",
      "Data columns (total 16 columns):\n",
      " #   Column               Non-Null Count  Dtype  \n",
      "---  ------               --------------  -----  \n",
      " 0   Exchange             503 non-null    object \n",
      " 1   Symbol               503 non-null    object \n",
      " 2   Shortname            503 non-null    object \n",
      " 3   Longname             503 non-null    object \n",
      " 4   Sector               503 non-null    object \n",
      " 5   Industry             503 non-null    object \n",
      " 6   Currentprice         503 non-null    float64\n",
      " 7   Marketcap            503 non-null    int64  \n",
      " 8   Ebitda               474 non-null    float64\n",
      " 9   Revenuegrowth        501 non-null    float64\n",
      " 10  City                 503 non-null    object \n",
      " 11  State                484 non-null    object \n",
      " 12  Country              503 non-null    object \n",
      " 13  Fulltimeemployees    495 non-null    float64\n",
      " 14  Longbusinesssummary  503 non-null    object \n",
      " 15  Weight               503 non-null    float64\n",
      "dtypes: float64(5), int64(1), object(10)\n",
      "memory usage: 63.0+ KB\n"
     ]
    }
   ],
   "source": [
    "df.info()\n"
   ]
  },
  {
   "cell_type": "code",
   "execution_count": 23,
   "metadata": {},
   "outputs": [
    {
     "data": {
      "text/plain": [
       "Exchange               0.000000\n",
       "Symbol                 0.000000\n",
       "Shortname              0.000000\n",
       "Longname               0.000000\n",
       "Sector                 0.000000\n",
       "Industry               0.000000\n",
       "Currentprice           0.000000\n",
       "Marketcap              0.000000\n",
       "Ebitda                 5.765408\n",
       "Revenuegrowth          0.397614\n",
       "City                   0.000000\n",
       "State                  3.777336\n",
       "Country                0.000000\n",
       "Fulltimeemployees      1.590457\n",
       "Longbusinesssummary    0.000000\n",
       "Weight                 0.000000\n",
       "dtype: float64"
      ]
     },
     "execution_count": 23,
     "metadata": {},
     "output_type": "execute_result"
    }
   ],
   "source": [
    "# Verificação de valores nulos\n",
    "porcentagem_nulos = (df.isnull().sum() / df.shape[0])*100\n",
    "porcentagem_nulos"
   ]
  },
  {
   "cell_type": "code",
   "execution_count": 24,
   "metadata": {},
   "outputs": [
    {
     "data": {
      "text/html": [
       "<div>\n",
       "<style scoped>\n",
       "    .dataframe tbody tr th:only-of-type {\n",
       "        vertical-align: middle;\n",
       "    }\n",
       "\n",
       "    .dataframe tbody tr th {\n",
       "        vertical-align: top;\n",
       "    }\n",
       "\n",
       "    .dataframe thead th {\n",
       "        text-align: right;\n",
       "    }\n",
       "</style>\n",
       "<table border=\"1\" class=\"dataframe\">\n",
       "  <thead>\n",
       "    <tr style=\"text-align: right;\">\n",
       "      <th></th>\n",
       "      <th>Currentprice</th>\n",
       "      <th>Marketcap</th>\n",
       "      <th>Ebitda</th>\n",
       "      <th>Revenuegrowth</th>\n",
       "      <th>Fulltimeemployees</th>\n",
       "      <th>Weight</th>\n",
       "    </tr>\n",
       "  </thead>\n",
       "  <tbody>\n",
       "    <tr>\n",
       "      <th>count</th>\n",
       "      <td>503.000000</td>\n",
       "      <td>5.030000e+02</td>\n",
       "      <td>4.740000e+02</td>\n",
       "      <td>501.000000</td>\n",
       "      <td>4.950000e+02</td>\n",
       "      <td>503.000000</td>\n",
       "    </tr>\n",
       "    <tr>\n",
       "      <th>mean</th>\n",
       "      <td>221.523181</td>\n",
       "      <td>1.042169e+11</td>\n",
       "      <td>6.793094e+09</td>\n",
       "      <td>0.057595</td>\n",
       "      <td>5.815373e+04</td>\n",
       "      <td>0.001988</td>\n",
       "    </tr>\n",
       "    <tr>\n",
       "      <th>std</th>\n",
       "      <td>498.713125</td>\n",
       "      <td>3.055524e+11</td>\n",
       "      <td>1.485538e+10</td>\n",
       "      <td>0.142049</td>\n",
       "      <td>1.394497e+05</td>\n",
       "      <td>0.005829</td>\n",
       "    </tr>\n",
       "    <tr>\n",
       "      <th>min</th>\n",
       "      <td>7.840000</td>\n",
       "      <td>6.321688e+09</td>\n",
       "      <td>-4.107000e+09</td>\n",
       "      <td>-0.573000</td>\n",
       "      <td>2.800000e+01</td>\n",
       "      <td>0.000121</td>\n",
       "    </tr>\n",
       "    <tr>\n",
       "      <th>25%</th>\n",
       "      <td>68.250000</td>\n",
       "      <td>1.930082e+10</td>\n",
       "      <td>1.585225e+09</td>\n",
       "      <td>-0.001000</td>\n",
       "      <td>1.007550e+04</td>\n",
       "      <td>0.000368</td>\n",
       "    </tr>\n",
       "    <tr>\n",
       "      <th>50%</th>\n",
       "      <td>123.290000</td>\n",
       "      <td>3.605402e+10</td>\n",
       "      <td>2.880500e+09</td>\n",
       "      <td>0.047000</td>\n",
       "      <td>2.124900e+04</td>\n",
       "      <td>0.000688</td>\n",
       "    </tr>\n",
       "    <tr>\n",
       "      <th>75%</th>\n",
       "      <td>236.945000</td>\n",
       "      <td>7.665864e+10</td>\n",
       "      <td>5.874562e+09</td>\n",
       "      <td>0.096000</td>\n",
       "      <td>5.354100e+04</td>\n",
       "      <td>0.001462</td>\n",
       "    </tr>\n",
       "    <tr>\n",
       "      <th>max</th>\n",
       "      <td>9172.460000</td>\n",
       "      <td>3.481739e+12</td>\n",
       "      <td>1.317810e+11</td>\n",
       "      <td>1.430000</td>\n",
       "      <td>2.100000e+06</td>\n",
       "      <td>0.066419</td>\n",
       "    </tr>\n",
       "  </tbody>\n",
       "</table>\n",
       "</div>"
      ],
      "text/plain": [
       "       Currentprice     Marketcap        Ebitda  Revenuegrowth  \\\n",
       "count    503.000000  5.030000e+02  4.740000e+02     501.000000   \n",
       "mean     221.523181  1.042169e+11  6.793094e+09       0.057595   \n",
       "std      498.713125  3.055524e+11  1.485538e+10       0.142049   \n",
       "min        7.840000  6.321688e+09 -4.107000e+09      -0.573000   \n",
       "25%       68.250000  1.930082e+10  1.585225e+09      -0.001000   \n",
       "50%      123.290000  3.605402e+10  2.880500e+09       0.047000   \n",
       "75%      236.945000  7.665864e+10  5.874562e+09       0.096000   \n",
       "max     9172.460000  3.481739e+12  1.317810e+11       1.430000   \n",
       "\n",
       "       Fulltimeemployees      Weight  \n",
       "count       4.950000e+02  503.000000  \n",
       "mean        5.815373e+04    0.001988  \n",
       "std         1.394497e+05    0.005829  \n",
       "min         2.800000e+01    0.000121  \n",
       "25%         1.007550e+04    0.000368  \n",
       "50%         2.124900e+04    0.000688  \n",
       "75%         5.354100e+04    0.001462  \n",
       "max         2.100000e+06    0.066419  "
      ]
     },
     "execution_count": 24,
     "metadata": {},
     "output_type": "execute_result"
    }
   ],
   "source": [
    "# Estatistica descritivas (Tentar melhorar as escalas)\n",
    "df.describe()"
   ]
  },
  {
   "cell_type": "code",
   "execution_count": 26,
   "metadata": {},
   "outputs": [
    {
     "data": {
      "image/png": "[encoded data removed]",
      "text/plain": [
       "<Figure size 800x600 with 2 Axes>"
      ]
     },
     "metadata": {},
     "output_type": "display_data"
    }
   ],
   "source": [
    "# Correlação \n",
    "colunas = ['Currentprice', 'Marketcap', 'Ebitda', 'Revenuegrowth', 'Fulltimeemployees', 'Weight']\n",
    "df_correlation = df[colunas]\n",
    "\n",
    "# Calculando a correlação\n",
    "correlacao = df_correlation.corr()\n",
    "\n",
    "plt.figure(figsize = (8,6))\n",
    "sns.heatmap(\n",
    "    correlacao, \n",
    "    annot=True,                # Mostra os valores de correlação\n",
    "    fmt=\".2f\",                \n",
    "    cmap='coolwarm',           \n",
    "    cbar_kws={'shrink': .8},   # Tamanho da barra de cores\n",
    "    linewidths=0.5,            # Espessura das linhas entre as células\n",
    "    linecolor='gray',          \n",
    "    annot_kws={\"size\": 12, \"weight\": 'bold'}, \n",
    "    square=True                \n",
    ")\n",
    "\n",
    "plt.show()"
   ]
  },
  {
   "cell_type": "markdown",
   "metadata": {},
   "source": [
    "Correlações fortes e positivas:\n",
    "\n",
    "- Ebitida e Wight (Proporção do valor de mercado) - Ambos tendem a crescer juntos\n",
    "- Ebitida e Marketcap (Valor total de mercado de uma empresa) - Ambos tendem a crescer juntos "
   ]
  },
  {
   "cell_type": "markdown",
   "metadata": {},
   "source": []
  },
  {
   "cell_type": "code",
   "execution_count": null,
   "metadata": {},
   "outputs": [],
   "source": []
  }
 ],
 "metadata": {
  "kernelspec": {
   "display_name": "base",
   "language": "python",
   "name": "python3"
  },
  "language_info": {
   "codemirror_mode": {
    "name": "ipython",
    "version": 3
   },
   "file_extension": ".py",
   "mimetype": "text/x-python",
   "name": "python",
   "nbconvert_exporter": "python",
   "pygments_lexer": "ipython3",
   "version": "3.12.4"
  }
 },
 "nbformat": 4,
 "nbformat_minor": 2
}
