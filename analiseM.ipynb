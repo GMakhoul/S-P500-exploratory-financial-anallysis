{
 "cells": [
  {
   "cell_type": "code",
   "execution_count": 13,
   "metadata": {},
   "outputs": [],
   "source": [
    "import numpy as np\n",
    "import seaborn as sns\n",
    "import pandas as pd\n",
    "import matplotlib.pyplot as plt"
   ]
  },
  {
   "cell_type": "markdown",
   "metadata": {},
   "source": [
    "![S&P's 500](https://www.thestreet.com/.image/ar_16:9%2Cc_fill%2Ccs_srgb%2Cq_auto:good%2Cw_1200/MTg4MjU0NjUxODAyNzIzMzc2/sp-500-1.png)\n",
    "\n",
    "<font size=\"3\">``\n",
    "- **O que é**: Índice de mercado que mede o desempenho de 500 grandes empresas dos EUA.\n",
    "- **Composição**: Inclui empresas listadas nas bolsas NYSE e NASDAQ.\n",
    "- **Origem**: Criado pela Standard & Poor's.\n",
    "- **Critérios de seleção**: Capitalização de mercado, liquidez e representatividade no mercado.\n",
    "- **Setores**: Empresas de vários setores, como tecnologia, saúde, finanças e energia.\n",
    "- **Importância**: Principal indicador da saúde do mercado de ações americano.\n",
    "- **Uso**: Referência para investidores, analistas e gestores de fundos.``<font size>"
   ]
  },
  {
   "cell_type": "code",
   "execution_count": null,
   "metadata": {},
   "outputs": [],
   "source": []
  }
 ],
 "metadata": {
  "kernelspec": {
   "display_name": "base",
   "language": "python",
   "name": "python3"
  },
  "language_info": {
   "codemirror_mode": {
    "name": "ipython",
    "version": 3
   },
   "file_extension": ".py",
   "mimetype": "text/x-python",
   "name": "python",
   "nbconvert_exporter": "python",
   "pygments_lexer": "ipython3",
   "version": "3.12.4"
  }
 },
 "nbformat": 4,
 "nbformat_minor": 2
}
