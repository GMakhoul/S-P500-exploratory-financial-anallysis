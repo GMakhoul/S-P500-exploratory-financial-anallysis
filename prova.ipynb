{
 "cells": [
  {
   "cell_type": "code",
   "execution_count": 8,
   "metadata": {},
   "outputs": [],
   "source": [
    "#lets do a exploratory analysis of the data\n",
    "import pandas as pd\n",
    "import numpy as np\n",
    "import matplotlib.pyplot as plt\n",
    "import seaborn as sns\n"
   ]
  },
  {
   "cell_type": "code",
   "execution_count": 14,
   "metadata": {},
   "outputs": [],
   "source": [
    "#importing the data\n",
    "df_companies = pd.read_csv(r'C:\\Users\\Gabriel Makhoul\\Desktop\\Ada Tech\\git prova\\S-P500-exploratory-financial-anallysis\\sp500_companies.csv', delimiter = ',')\n",
    "df_index = pd.read_csv(r'C:\\Users\\Gabriel Makhoul\\Desktop\\Ada Tech\\git prova\\S-P500-exploratory-financial-anallysis\\sp500_index.csv', delimiter = ',')\n",
    "df_stocks = pd.read_csv(r'C:\\Users\\Gabriel Makhoul\\Desktop\\Ada Tech\\git prova\\S-P500-exploratory-financial-anallysis\\sp500_stocks.csv', delimiter = ',')"
   ]
  },
  {
   "cell_type": "code",
   "execution_count": null,
   "metadata": {},
   "outputs": [],
   "source": [
    "# on df_stocks we will take the mean of the high and low prices to get the average price of the stock\n",
    "df_stocks['average_price'] = (df_stocks['High'] + df_stocks['Low'])/2\n",
    "\n",
    "#lets count the number of days that this database has\n",
    "x = df_stocks['Date'].nunique()\n",
    "\n",
    "#now we will make a metris of avera price of the stock and the volume of the stock normalized by the number of days\n",
    "df_stocks['price_volume'] = df_stocks['average_price']*df_stocks['Volume']/x"
   ]
  },
  {
   "cell_type": "code",
   "execution_count": null,
   "metadata": {},
   "outputs": [],
   "source": [
    "#lets pick the top 10 companies with the highest price_volume\n",
    "df_stocks = df_stocks.sort_values(by = 'price_volume', ascending = True)\n",
    "\n",
    "#grouping the data by company\n",
    "df_stocks = df_stocks.groupby('Symbol').sum()\n",
    "\n",
    "#pciking the top 10 companies\n",
    "df_stocks_top10 = df_stocks.head(10)"
   ]
  },
  {
   "cell_type": "code",
   "execution_count": null,
   "metadata": {},
   "outputs": [],
   "source": [
    "#now we join the data to get the company name\n",
    "df_stocks_top10 = df_stocks_top10.join(df_companies.set_index('Symbol'), on = 'Symbol')"
   ]
  },
  {
   "cell_type": "code",
   "execution_count": null,
   "metadata": {},
   "outputs": [],
   "source": [
    "#now we graph the price volume of the stock by the Symbol of the company\n",
    "df_stocks_top10.groupby('Shortname')['price_volume'].mean().plot(kind = 'barh')\n",
    "plt.title('Price Volume of the stock by Symbol')\n",
    "plt.xlabel('Shortname')\n",
    "plt.ylabel('Price Volume')\n",
    "plt.show()"
   ]
  }
 ],
 "metadata": {
  "kernelspec": {
   "display_name": "Python 3",
   "language": "python",
   "name": "python3"
  },
  "language_info": {
   "codemirror_mode": {
    "name": "ipython",
    "version": 3
   },
   "file_extension": ".py",
   "mimetype": "text/x-python",
   "name": "python",
   "nbconvert_exporter": "python",
   "pygments_lexer": "ipython3",
   "version": "3.11.2"
  }
 },
 "nbformat": 4,
 "nbformat_minor": 2
}
